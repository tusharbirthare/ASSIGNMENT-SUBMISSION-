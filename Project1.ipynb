{
 "cells": [
  {
   "cell_type": "markdown",
   "metadata": {},
   "source": [
    "# Project 1"
   ]
  },
  {
   "cell_type": "markdown",
   "metadata": {},
   "source": [
    "### Do the project - Develop a cryptography app in python."
   ]
  },
  {
   "cell_type": "code",
   "execution_count": null,
   "metadata": {},
   "outputs": [
    {
     "name": "stderr",
     "output_type": "stream",
     "text": [
      "Exception in Tkinter callback\n",
      "Traceback (most recent call last):\n",
      "  File \"C:\\Users\\ASUS\\anaconda3\\lib\\tkinter\\__init__.py\", line 1883, in __call__\n",
      "    return self.func(*args)\n",
      "  File \"<ipython-input-1-32ba8e1cf43b>\", line 14, in encryptMessage\n",
      "    ct = onetimepad.encrypt(pt, 'random')\n",
      "NameError: name 'onetimepad' is not defined\n",
      "Exception in Tkinter callback\n",
      "Traceback (most recent call last):\n",
      "  File \"C:\\Users\\ASUS\\anaconda3\\lib\\tkinter\\__init__.py\", line 1883, in __call__\n",
      "    return self.func(*args)\n",
      "  File \"<ipython-input-1-32ba8e1cf43b>\", line 14, in encryptMessage\n",
      "    ct = onetimepad.encrypt(pt, 'random')\n",
      "NameError: name 'onetimepad' is not defined\n",
      "Exception in Tkinter callback\n",
      "Traceback (most recent call last):\n",
      "  File \"C:\\Users\\ASUS\\anaconda3\\lib\\tkinter\\__init__.py\", line 1883, in __call__\n",
      "    return self.func(*args)\n",
      "  File \"<ipython-input-1-32ba8e1cf43b>\", line 21, in decryptMessage\n",
      "    pt1 = onetimepad.decrypt(ct1, 'random')\n",
      "NameError: name 'onetimepad' is not defined\n",
      "Exception in Tkinter callback\n",
      "Traceback (most recent call last):\n",
      "  File \"C:\\Users\\ASUS\\anaconda3\\lib\\tkinter\\__init__.py\", line 1883, in __call__\n",
      "    return self.func(*args)\n",
      "  File \"<ipython-input-1-32ba8e1cf43b>\", line 21, in decryptMessage\n",
      "    pt1 = onetimepad.decrypt(ct1, 'random')\n",
      "NameError: name 'onetimepad' is not defined\n",
      "Exception in Tkinter callback\n",
      "Traceback (most recent call last):\n",
      "  File \"C:\\Users\\ASUS\\anaconda3\\lib\\tkinter\\__init__.py\", line 1883, in __call__\n",
      "    return self.func(*args)\n",
      "  File \"<ipython-input-1-32ba8e1cf43b>\", line 21, in decryptMessage\n",
      "    pt1 = onetimepad.decrypt(ct1, 'random')\n",
      "NameError: name 'onetimepad' is not defined\n"
     ]
    }
   ],
   "source": [
    "# import netimepad    \n",
    "# python module to create GUI         \n",
    "from tkinter import * \n",
    "  \n",
    "         \n",
    "root = Tk() \n",
    "root.title(\"CRYPTOGRAPHY\") \n",
    "root.geometry(\"800x600\") \n",
    "  \n",
    "def encryptMessage():                       \n",
    "    pt = e1.get() \n",
    "  \n",
    "    # inbuilt function to encrypt a message \n",
    "    ct = onetimepad.encrypt(pt, 'random') \n",
    "    e2.insert(0, ct) \n",
    "  \n",
    "def decryptMessage():                      \n",
    "    ct1 = e3.get() \n",
    "  \n",
    "    # inbuilt function to decrypt a message \n",
    "    pt1 = onetimepad.decrypt(ct1, 'random') \n",
    "    e4.insert(0, pt1) \n",
    "      \n",
    "# creating labels and positioning them on the grid \n",
    "label1 = Label(root, text ='plain text')                \n",
    "label1.grid(row = 10, column = 1) \n",
    "label2 = Label(root, text ='encrypted text') \n",
    "label2.grid(row = 11, column = 1) \n",
    "l3 = Label(root, text =\"cipher text\") \n",
    "l3.grid(row = 10, column = 10) \n",
    "l4 = Label(root, text =\"decrypted text\") \n",
    "l4.grid(row = 11, column = 10) \n",
    "  \n",
    "# creating entries and positioning them on the grid \n",
    "e1 = Entry(root) \n",
    "e1.grid(row = 10, column = 2) \n",
    "e2 = Entry(root) \n",
    "e2.grid(row = 11, column = 2) \n",
    "e3 = Entry(root) \n",
    "e3.grid(row = 10, column = 11) \n",
    "e4 = Entry(root) \n",
    "e4.grid(row = 11, column = 11) \n",
    "  \n",
    "# creating encryption button to produce the output \n",
    "ent = Button(root, text = \"encrypt\", bg =\"red\", fg =\"white\", command = encryptMessage) \n",
    "ent.grid(row = 13, column = 2) \n",
    "  \n",
    "# creating decryption button to produce the output \n",
    "b2 = Button(root, text = \"decrypt\", bg =\"green\", fg =\"white\", command = decryptMessage) \n",
    "b2.grid(row = 13, column = 11) \n",
    "  \n",
    "  \n",
    "root.mainloop()"
   ]
  },
  {
   "cell_type": "code",
   "execution_count": null,
   "metadata": {},
   "outputs": [],
   "source": []
  }
 ],
 "metadata": {
  "kernelspec": {
   "display_name": "Python 3",
   "language": "python",
   "name": "python3"
  },
  "language_info": {
   "codemirror_mode": {
    "name": "ipython",
    "version": 3
   },
   "file_extension": ".py",
   "mimetype": "text/x-python",
   "name": "python",
   "nbconvert_exporter": "python",
   "pygments_lexer": "ipython3",
   "version": "3.8.3"
  }
 },
 "nbformat": 4,
 "nbformat_minor": 4
}

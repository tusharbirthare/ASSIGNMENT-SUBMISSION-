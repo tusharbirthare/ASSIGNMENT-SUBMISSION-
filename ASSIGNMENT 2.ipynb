{
 "cells": [
  {
   "cell_type": "markdown",
   "metadata": {},
   "source": [
    "# Assignment 2"
   ]
  },
  {
   "cell_type": "markdown",
   "metadata": {},
   "source": [
    "### Question 1. Write a Python program to remove duplicates from a list"
   ]
  },
  {
   "cell_type": "code",
   "execution_count": 1,
   "metadata": {},
   "outputs": [
    {
     "name": "stdout",
     "output_type": "stream",
     "text": [
      "[1, 2, 3, 4, 5, 7, 8, 9, 10]\n"
     ]
    }
   ],
   "source": [
    "ls=[1,2,3,1,4,5,2,7,8,3,9,10]\n",
    "fl=[]\n",
    "for i in ls:\n",
    "    if i not in fl:\n",
    "        fl.append(i)\n",
    "print(fl)\n",
    "        "
   ]
  },
  {
   "cell_type": "markdown",
   "metadata": {},
   "source": [
    "### Question 2. Write a Python program to get the difference between the two lists"
   ]
  },
  {
   "cell_type": "code",
   "execution_count": 2,
   "metadata": {},
   "outputs": [
    {
     "name": "stdout",
     "output_type": "stream",
     "text": [
      "[8, 6, 4, 2, 0, -2, -4, -6, -8]\n"
     ]
    }
   ],
   "source": [
    "l1 = [9,8,7,6,5,4,3,2,1]\n",
    "l2 = [1,2,3,4,5,6,7,8,9]\n",
    "l=[]\n",
    "for i in range(len(l1)):\n",
    "    l.append(l1[i]-l2[i])\n",
    "print(l)\n",
    "    "
   ]
  },
  {
   "cell_type": "markdown",
   "metadata": {},
   "source": [
    "### Question 3. Write a Python program to get the frequency of the elements in a list"
   ]
  },
  {
   "cell_type": "code",
   "execution_count": 3,
   "metadata": {},
   "outputs": [
    {
     "name": "stdout",
     "output_type": "stream",
     "text": [
      "1  :  3\n",
      "2  :  1\n",
      "3  :  1\n",
      "4  :  3\n",
      "5  :  2\n",
      "6  :  5\n",
      "7  :  3\n",
      "8  :  4\n",
      "9  :  6\n"
     ]
    }
   ],
   "source": [
    "my_list = [1,1,1,2,3,4,4,4,5,5,6,6,6,6,6,7,7,7,8,8,8,8,9,9,9,9,9,9,]\n",
    "l=[]\n",
    "for i in my_list:\n",
    "    if i not in l:\n",
    "        print(i,\" : \",my_list.count(i))\n",
    "        l.append(i)\n",
    "    "
   ]
  },
  {
   "cell_type": "markdown",
   "metadata": {},
   "source": [
    "### Question 4. Write a Python program to compute the similarity between two lists.\n",
    "Sample data: [\"red\", \"orange\", \"green\", \"blue\", \"white\"], [\"black\", \"yellow\", \"green\", \"blue\"]\n",
    "Expected Output: Color1-Color2: ['white', 'orange', 'red']\n",
    "Color2-Color1: ['black', 'yellow']"
   ]
  },
  {
   "cell_type": "code",
   "execution_count": 4,
   "metadata": {},
   "outputs": [
    {
     "name": "stdout",
     "output_type": "stream",
     "text": [
      "Color1-Color2 :  ['white', 'orange', 'red']\n",
      "Color2-Color1 :  ['black', 'yellow']\n"
     ]
    }
   ],
   "source": [
    "l1 = [\"red\",\"orange\",\"green\",\"blue\",\"white\"]\n",
    "l2 = [\"black\",\"yellow\",\"green\",\"blue\"]\n",
    "r1 = []\n",
    "r2 = []\n",
    "for i in l1:\n",
    "    if i not in l2:\n",
    "        r1.append(i)\n",
    "for i in l2:\n",
    "    if i not in l1:\n",
    "        r2.append(i)\n",
    "print(\"Color1-Color2 : \",r1[::-1])\n",
    "print(\"Color2-Color1 : \",r2)\n",
    "        "
   ]
  },
  {
   "cell_type": "markdown",
   "metadata": {},
   "source": [
    "### Question 5. Write a Python function that takes a list of words and returns the length of the longest one"
   ]
  },
  {
   "cell_type": "code",
   "execution_count": 5,
   "metadata": {},
   "outputs": [
    {
     "name": "stdout",
     "output_type": "stream",
     "text": [
      "The length of the of the longest one is  6\n"
     ]
    }
   ],
   "source": [
    "def long_lenght(l1):\n",
    "    l=[]\n",
    "    for i in l1:\n",
    "        l.append(len(i))\n",
    "    l.sort()\n",
    "    print(\"The length of the of the longest one is \",l[-1])\n",
    "l1 = [\"red\",\"orange\",\"green\",\"blue\",\"white\"]\n",
    "long_lenght(l1)\n",
    "        "
   ]
  },
  {
   "cell_type": "markdown",
   "metadata": {},
   "source": [
    "### Question 6.Write a Python program to count the occurrences of each word in a given sentence "
   ]
  },
  {
   "cell_type": "code",
   "execution_count": 6,
   "metadata": {},
   "outputs": [
    {
     "name": "stdout",
     "output_type": "stream",
     "text": [
      "the  :  2\n",
      "quick  :  1\n",
      "brown  :  1\n",
      "fox  :  1\n",
      "jumps  :  1\n",
      "over  :  1\n",
      "lazy  :  1\n",
      "dog.  :  1\n"
     ]
    }
   ],
   "source": [
    "String = \"the quick brown fox jumps over the lazy dog.\"\n",
    "String_to_List=String.split()\n",
    "l=[]\n",
    "for i in String_to_List:\n",
    "    if i not in l:\n",
    "        print(i, \" : \", String_to_List.count(i))\n",
    "        l.append(i)\n"
   ]
  },
  {
   "cell_type": "markdown",
   "metadata": {},
   "source": [
    "###  Question 7.Write a Python program to count and display the vowels of a given text"
   ]
  },
  {
   "cell_type": "code",
   "execution_count": 7,
   "metadata": {
    "scrolled": true
   },
   "outputs": [
    {
     "name": "stdout",
     "output_type": "stream",
     "text": [
      "u  :  1\n",
      "a  :  2\n",
      "i  :  1\n",
      "a  :  2\n",
      "e  :  1\n"
     ]
    }
   ],
   "source": [
    "name = \"Tushar Birthare\"\n",
    "l=[\"a\",\"e\",\"i\",\"o\",\"u\"]\n",
    "a=name.lower()\n",
    "for i in a:\n",
    "    if i in l:\n",
    "        print(i,\" : \" ,a.count(i))\n"
   ]
  },
  {
   "cell_type": "markdown",
   "metadata": {},
   "source": [
    "### Question 8. Write a Python script to generate and print a dictionary that contains a number (between 1 and n) in the form (x, x*x)"
   ]
  },
  {
   "cell_type": "code",
   "execution_count": 8,
   "metadata": {},
   "outputs": [
    {
     "name": "stdout",
     "output_type": "stream",
     "text": [
      "Enter a number10\n",
      "{1: 1, 2: 4, 3: 9, 4: 16, 5: 25, 6: 36, 7: 49, 8: 64, 9: 81, 10: 100}\n"
     ]
    }
   ],
   "source": [
    "n=int(input(\"Enter a number\"))\n",
    "d=dict()\n",
    "for i in range(1,n+1):\n",
    "    d[i] = i*i\n",
    "print(d)"
   ]
  },
  {
   "cell_type": "markdown",
   "metadata": {},
   "source": [
    "### Question 9.Write a Python program to combine two dictionary adding values for common keys\n",
    "\n",
    "● d1 = {'a': 100, 'b': 200, 'c':300}\n",
    "● d2 = {'a': 300, 'b': 200, 'd':400}\n",
    "● Sample output: Counter({'a': 400, 'b': 400, 'd': 400, 'c': 300})"
   ]
  },
  {
   "cell_type": "code",
   "execution_count": 9,
   "metadata": {},
   "outputs": [
    {
     "name": "stdout",
     "output_type": "stream",
     "text": [
      "Counter({'a': 400, 'b': 400, 'd': 400, 'c': 300})\n"
     ]
    }
   ],
   "source": [
    "from collections import Counter\n",
    "d1 = {'a': 100, 'b': 200, 'c':300}\n",
    "d2 = {'a': 300, 'b': 200, 'd':400}\n",
    "d = Counter(d1) + Counter(d2)\n",
    "print(d)"
   ]
  },
  {
   "cell_type": "markdown",
   "metadata": {},
   "source": [
    "### Question 10.Write a Python program to print all unique values in a dictionary\n",
    "● Sample Data : [{\"V\":\"S001\"}, {\"V\": \"S002\"}, {\"VI\": \"S001\"}, {\"VI\": \"S005\"}, {\"VII\":\"S005\"},\n",
    "{\"V\":\"S009\"},{\"VIII\":\"S007\"}]\n",
    "● Expected Output : Unique Values: {'S005', 'S002', 'S007', 'S001', 'S009'}"
   ]
  },
  {
   "cell_type": "code",
   "execution_count": 10,
   "metadata": {},
   "outputs": [
    {
     "name": "stdout",
     "output_type": "stream",
     "text": [
      "Unique Values:  {'S001', 'S005', 'S007', 'S009', 'S002'}\n"
     ]
    }
   ],
   "source": [
    "L = [{\"V\":\"S001\"}, {\"V\": \"S002\"}, {\"VI\": \"S001\"}, {\"VI\": \"S005\"}, {\"VII\":\"S005\"}, {\"V\":\"S009\"},{\"VIII\":\"S007\"}]\n",
    "u_value = set( val for dic in L for val in dic.values())\n",
    "print(\"Unique Values: \",u_value)"
   ]
  }
 ],
 "metadata": {
  "kernelspec": {
   "display_name": "Python 3",
   "language": "python",
   "name": "python3"
  },
  "language_info": {
   "codemirror_mode": {
    "name": "ipython",
    "version": 3
   },
   "file_extension": ".py",
   "mimetype": "text/x-python",
   "name": "python",
   "nbconvert_exporter": "python",
   "pygments_lexer": "ipython3",
   "version": "3.8.3"
  }
 },
 "nbformat": 4,
 "nbformat_minor": 4
}
